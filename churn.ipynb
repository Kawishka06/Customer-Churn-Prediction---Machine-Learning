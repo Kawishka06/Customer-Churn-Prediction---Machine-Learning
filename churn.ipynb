{
 "cells": [
  {
   "cell_type": "code",
   "execution_count": null,
   "id": "29afce20",
   "metadata": {},
   "outputs": [],
   "source": [
    "import pandas as pd\n",
    "import numpy as np\n",
    "import matplotlib.pyplot as plt\n",
    "import seaborn as sns\n",
    "from sklearn.linear_model import LogisticRegression\n",
    "from sklearn.ensemble import RandomForestClassifier\n",
    "from sklearn.model_selection import train_test_split, GridSearchCV\n",
    "from sklearn.preprocessing import LabelEncoder, StandardScaler\n",
    "from sklearn.metrics import accuracy_score, precision_score, recall_score, f1_score, roc_auc_score, confusion_matrix, classification_report\n",
    "\n",
    "from imblearn.over_sampling import SMOTE\n",
    "from xgboost import XGBClassifier\n"
   ]
  },
  {
   "cell_type": "code",
   "execution_count": null,
   "id": "9b4afd3f",
   "metadata": {},
   "outputs": [],
   "source": [
    "df=pd.read_csv(\"Telco-Customer-Churn.csv\")"
   ]
  },
  {
   "cell_type": "code",
   "execution_count": null,
   "id": "99ab8c3f",
   "metadata": {},
   "outputs": [],
   "source": [
    "df.shape"
   ]
  },
  {
   "cell_type": "code",
   "execution_count": null,
   "id": "e2eb722d",
   "metadata": {},
   "outputs": [],
   "source": [
    "df.head()"
   ]
  },
  {
   "cell_type": "code",
   "execution_count": null,
   "id": "c016456f",
   "metadata": {},
   "outputs": [],
   "source": [
    "df.tail()"
   ]
  },
  {
   "cell_type": "code",
   "execution_count": null,
   "id": "89044030",
   "metadata": {},
   "outputs": [],
   "source": [
    "df.describe()"
   ]
  },
  {
   "cell_type": "code",
   "execution_count": null,
   "id": "17e2c5f2",
   "metadata": {},
   "outputs": [],
   "source": [
    "df.info()"
   ]
  },
  {
   "cell_type": "code",
   "execution_count": null,
   "id": "37e1a0b8",
   "metadata": {},
   "outputs": [],
   "source": [
    "df.isnull().sum()"
   ]
  },
  {
   "cell_type": "markdown",
   "id": "72926bd2",
   "metadata": {},
   "source": [
    "Drop the customer Id since it is not useful for predictions"
   ]
  },
  {
   "cell_type": "code",
   "execution_count": null,
   "id": "ff01664b",
   "metadata": {},
   "outputs": [],
   "source": [
    "df['Churn'].value_counts()"
   ]
  },
  {
   "cell_type": "code",
   "execution_count": null,
   "id": "9bd5be31",
   "metadata": {},
   "outputs": [],
   "source": [
    "if 'customerId' in df.columns:\n",
    "    df.drop('customerId',axis=1,inplace=True)"
   ]
  },
  {
   "cell_type": "markdown",
   "id": "a59ed890",
   "metadata": {},
   "source": [
    "Convert total charges to numeric"
   ]
  },
  {
   "cell_type": "code",
   "execution_count": null,
   "id": "cc742c40",
   "metadata": {},
   "outputs": [],
   "source": [
    "df[\"TotalCharges\"]=pd.to_numeric(df['TotalCharges'],errors='coerce')\n",
    "df.fillna(0,inplace=True)"
   ]
  },
  {
   "cell_type": "markdown",
   "id": "ed519662",
   "metadata": {},
   "source": [
    "Encoding the Categorical Columns"
   ]
  },
  {
   "cell_type": "code",
   "execution_count": null,
   "id": "83476fa6",
   "metadata": {},
   "outputs": [],
   "source": [
    "lable={}\n",
    "for col in df.select_dtypes(include=['object']).columns:\n",
    "    le=LabelEncoder()\n",
    "    df[col]=le.fit_transform(df[col])\n",
    "    lable[col]=le"
   ]
  },
  {
   "cell_type": "code",
   "execution_count": null,
   "id": "a72092fb",
   "metadata": {},
   "outputs": [],
   "source": [
    "X=df.drop('Churn',axis=1)\n",
    "y=df['Churn']"
   ]
  },
  {
   "cell_type": "markdown",
   "id": "3485dc19",
   "metadata": {},
   "source": [
    "Splitting the training and testing data"
   ]
  },
  {
   "cell_type": "code",
   "execution_count": null,
   "id": "3da3bd43",
   "metadata": {},
   "outputs": [],
   "source": [
    "X_train,X_test,y_train,y_test=train_test_split(X,y,random_state=42,test_size=0.2)\n"
   ]
  },
  {
   "cell_type": "code",
   "execution_count": null,
   "id": "ed755888",
   "metadata": {},
   "outputs": [],
   "source": [
    "smote = SMOTE(random_state=42)\n",
    "X_train_res, y_train_res = smote.fit_resample(X, y)"
   ]
  },
  {
   "cell_type": "code",
   "execution_count": null,
   "id": "76f1a115",
   "metadata": {},
   "outputs": [],
   "source": [
    "y_train_res.value_counts()"
   ]
  },
  {
   "cell_type": "markdown",
   "id": "9a6887a1",
   "metadata": {},
   "source": [
    "Training the model using Random Forest Classifier"
   ]
  },
  {
   "cell_type": "code",
   "execution_count": null,
   "id": "573a78e5",
   "metadata": {},
   "outputs": [],
   "source": [
    "model=RandomForestClassifier(n_estimators=200,random_state=42)\n",
    "model.fit(X_train_res,y_train_res)"
   ]
  },
  {
   "cell_type": "code",
   "execution_count": null,
   "id": "922ae72c",
   "metadata": {},
   "outputs": [],
   "source": [
    "y_predictions_rfc=model.predict(X_test)\n"
   ]
  },
  {
   "cell_type": "code",
   "execution_count": null,
   "id": "254243da",
   "metadata": {},
   "outputs": [],
   "source": [
    "model_accuracy=accuracy_score(y_test,y_predictions_rfc)\n",
    "model_precision=precision_score(y_test,y_predictions_rfc)\n",
    "model_recall=recall_score(y_test,y_predictions_rfc)\n",
    "model_f1score=f1_score(y_test,y_predictions_rfc)\n",
    "\n",
    "print(\"Accuracy : \",model_accuracy)\n",
    "print(\"Precision: \",model_precision)\n",
    "print(\"Model Recall Score: \",model_recall)\n",
    "print(\"Model F1 Score: \",model_f1score)"
   ]
  },
  {
   "cell_type": "markdown",
   "id": "acd12b41",
   "metadata": {},
   "source": [
    "Training the model using XGBoost"
   ]
  },
  {
   "cell_type": "code",
   "execution_count": null,
   "id": "1c23b17f",
   "metadata": {},
   "outputs": [],
   "source": [
    "xgb_model = XGBClassifier(n_estimators=200, random_state=42, use_label_encoder=False, eval_metric='logloss')\n",
    "xgb_model.fit(X_train_res, y_train_res)"
   ]
  },
  {
   "cell_type": "code",
   "execution_count": null,
   "id": "758c356b",
   "metadata": {},
   "outputs": [],
   "source": [
    "y_pred_xgb = xgb_model.predict(X_test)"
   ]
  },
  {
   "cell_type": "code",
   "execution_count": null,
   "id": "cd8b1cee",
   "metadata": {},
   "outputs": [],
   "source": [
    "xgb_model_accuracy=accuracy_score(y_test,y_pred_xgb)\n",
    "xgb_model_precision=precision_score(y_test,y_pred_xgb)\n",
    "xgb_model_recall=recall_score(y_test,y_pred_xgb)\n",
    "xgb_model_f1score=f1_score(y_test,y_pred_xgb)\n",
    "\n",
    "print(\"Accuracy : \",xgb_model_accuracy)\n",
    "print(\"Precision: \",xgb_model_precision)\n",
    "print(\"Model Recall Score: \",xgb_model_recall)\n",
    "print(\"Model F1 Score: \",xgb_model_f1score)"
   ]
  },
  {
   "cell_type": "code",
   "execution_count": null,
   "id": "e0b4f31e",
   "metadata": {},
   "outputs": [],
   "source": [
    "log_model = LogisticRegression(max_iter=10000,class_weight='balanced')\n",
    "log_model.fit(X_train_res, y_train_res)"
   ]
  },
  {
   "cell_type": "code",
   "execution_count": null,
   "id": "7a2b18e8",
   "metadata": {},
   "outputs": [],
   "source": [
    "y_pred_log = log_model.predict(X_test)"
   ]
  },
  {
   "cell_type": "code",
   "execution_count": null,
   "id": "d6d2f064",
   "metadata": {},
   "outputs": [],
   "source": [
    "log_model_accuracy=accuracy_score(y_test,y_pred_log)\n",
    "log_model_precision=precision_score(y_test,y_pred_log)\n",
    "log_model_recall=recall_score(y_test,y_pred_log)\n",
    "log_model_f1score=f1_score(y_test,y_pred_log)\n",
    "log_classification_report=classification_report(y_test,y_pred_log)\n",
    "\n",
    "print(\"Accuracy : \",log_model_accuracy)\n",
    "print(\"Precision: \",log_model_precision)\n",
    "print(\"Model Recall Score: \",log_model_recall)\n",
    "print(\"Model F1 Score: \",log_model_f1score)"
   ]
  },
  {
   "cell_type": "code",
   "execution_count": null,
   "id": "73fedfc1",
   "metadata": {},
   "outputs": [],
   "source": [
    "xgb_model_accuracy=accuracy_score(y_test,y_pred_xgb)\n",
    "xgb_model_precision=precision_score(y_test,y_pred_xgb)\n",
    "xgb_model_recall=recall_score(y_test,y_pred_xgb)\n",
    "xgb_model_f1score=f1_score(y_test,y_pred_xgb)\n",
    "\n",
    "print(\"Accuracy : \",xgb_model_accuracy)\n",
    "print(\"Precision: \",xgb_model_precision)\n",
    "print(\"Model Recall Score: \",xgb_model_recall)\n",
    "print(\"Model F1 Score: \",xgb_model_f1score)"
   ]
  },
  {
   "cell_type": "code",
   "execution_count": null,
   "id": "7ec63440",
   "metadata": {},
   "outputs": [],
   "source": [
    "cus_id=input(\"Enter the Customer Id: \")\n",
    "gender=input(\"Enter the Gender (Female/Male): \")\n",
    "senior=int(input(\"Enter 1 for senior citizen and 0 for non senior citizens: \"))\n",
    "partner=input(\"Do you have a partner? (yes/no): \")\n",
    "dependent=input(\"Do you have any dependents? (yes/no) : \")\n",
    "tenure=int(input(\"Tenure: \"))\n",
    "phone_service= input(\"Do you have a phone service:(yes/no) \")\n",
    "\n",
    "\n",
    "multiple_mapping = {'yes': 2, 'no': 1, 'no phone': 0}\n",
    "multiple_input = input(\"Do you have multiple lines? (Yes/ No/ No phone: \").strip().lower()\n",
    "if multiple_input in multiple_mapping:\n",
    "    multiple = multiple_mapping[multiple_input]\n",
    "else:\n",
    "    raise ValueError(\"Invalid input for multiple connections.\")\n",
    "\n",
    "\n",
    "\n",
    "internet_service_mapping = {'dsl': 2, 'fiber optic': 1, 'no': 0}\n",
    "internet_service_input = input(\"Do you have internet service? (DSL/ Fiber Optic/ No)\").strip().lower()\n",
    "if internet_service_input in internet_service_mapping:\n",
    "    internet_service = internet_service_mapping[internet_service_input]\n",
    "else:\n",
    "    raise ValueError(\"Invalid input for internet service.\")\n",
    "\n",
    "\n",
    "\n",
    "online_security_mapping = {'yes': 2, 'no': 1, 'no internet': 0}\n",
    "online_security_input = input(\"Do you have online security? (Yes/ No/ No internet)\").strip().lower()\n",
    "if online_security_input in online_security_mapping:\n",
    "    online_security = online_security_mapping[online_security_input]\n",
    "else:\n",
    "    raise ValueError(\"Invalid input for online security.\")\n",
    "\n",
    "\n",
    "\n",
    "online_backup_mapping = {'yes': 2, 'no': 1, 'no internet': 0}\n",
    "online_backup_input = input(\"Do you have online backup? (Yes/ No/ No internet)\").strip().lower()\n",
    "if online_backup_input in online_backup_mapping:\n",
    "    online_backup = online_backup_mapping[online_backup_input]\n",
    "else:\n",
    "    raise ValueError(\"Invalid input for online backup.\")\n",
    "\n",
    "\n",
    "\n",
    "device_protection_mapping = {'yes': 2, 'no': 1, 'no internet': 0}\n",
    "device_protection_input = input(\"Do you have device protection? (Yes/ No/ No internet)\").strip().lower()\n",
    "if device_protection_input in device_protection_mapping:\n",
    "    device_protection = device_protection_mapping[device_protection_input]\n",
    "else:\n",
    "    raise ValueError(\"Invalid input for device protection.\")\n",
    "\n",
    "\n",
    "\n",
    "\n",
    "tech_sup_mapping = {'yes': 2, 'no': 1, 'no internet': 0}\n",
    "tech_sup_input = input(\"Do you have technical support? (Yes/ No/ No internet)\").strip().lower()\n",
    "if tech_sup_input in tech_sup_mapping:\n",
    "    tech_sup = tech_sup_mapping[tech_sup_input]\n",
    "else:\n",
    "    raise ValueError(\"Invalid input for technical support.\")\n",
    "\n",
    "\n",
    "\n",
    "\n",
    "streaming_tv_mapping = {'yes': 2, 'no': 1, 'no internet': 0}\n",
    "streaming_tv_input = input(\"Do you have TV Streaming? (Yes/ No/ No internet)\").strip().lower()\n",
    "if streaming_tv_input in streaming_tv_mapping:\n",
    "    streaming_tv = streaming_tv_mapping[streaming_tv_input]\n",
    "else:\n",
    "    raise ValueError(\"Invalid input for TV Streaming.\")\n",
    "\n",
    "\n",
    "streaming_movies_mapping = {'yes': 2, 'no': 1, 'no internet': 0}\n",
    "streaming_movies_input = input(\"Do you have Movie Streaming? (Yes/ No/ No internet)\").strip().lower()\n",
    "if streaming_movies_input in streaming_movies_mapping:\n",
    "    streaming_movies = streaming_movies_mapping[streaming_movies_input]\n",
    "else:\n",
    "    raise ValueError(\"Invalid input for TV Streaming.\")\n",
    "\n",
    "\n",
    "\n",
    "contract_mapping = {'two years': 2, 'one year': 1, 'month-to month': 0}\n",
    "contract_input = input(\"How long is your contarct (month-to-month / One year / Two years): \").strip().lower()\n",
    "if contract_input in contract_mapping:\n",
    "    contract = contract_mapping[contract_input]\n",
    "else:\n",
    "    raise ValueError(\"Invalid input for contract period.\")\n",
    "\n",
    "\n",
    "paper=input(\"Paperless? (Yes / No): \")\n",
    "\n",
    "\n",
    "payment_mapping = {'electronic': 3,'mailed check': 2, 'bank transaction': 1, 'credit card': 0}\n",
    "payment_input = input(\"Payment Type: (Electronic / Mailed Check / Bank transaction/ Credit Card): \").strip().lower()\n",
    "if payment_input in payment_mapping:\n",
    "    payment = payment_mapping[payment_input]\n",
    "else:\n",
    "    raise ValueError(\"Invalid input for Payment.\")\n",
    "\n",
    "\n",
    "monthly_charge=float(input(\"Enter your monthly charge: \"))\n",
    "tot_charge=float(input(\"Enter the Total Charge: \"))\n",
    "\n",
    "\n",
    "\n"
   ]
  },
  {
   "cell_type": "code",
   "execution_count": null,
   "id": "5e3856d5",
   "metadata": {},
   "outputs": [],
   "source": [
    "gender_low=1 if gender.lower=='male' else 0\n",
    "partner_low=1 if partner.lower=='yes' else 0\n",
    "dependent_low= 1 if dependent.lower=='yes' else 0\n",
    "phone_service_low=1 if phone_service.lower=='yes' else 0\n",
    "paper_low=1 if paper.lower=='yes' else 0\n"
   ]
  },
  {
   "cell_type": "code",
   "execution_count": null,
   "id": "2754ba6a",
   "metadata": {},
   "outputs": [],
   "source": [
    "user_input=np.array(\n",
    "    [\n",
    "    [0,gender_low,senior,partner_low,dependent_low,tenure,phone_service_low,multiple,internet_service,online_security,online_backup,device_protection,tech_sup,streaming_tv,streaming_movies,contract,paper_low,payment,monthly_charge,tot_charge]\n",
    "    ],dtype=float\n",
    ")"
   ]
  },
  {
   "cell_type": "code",
   "execution_count": null,
   "id": "99474952",
   "metadata": {},
   "outputs": [],
   "source": [
    "predictions=xgb_model.predict(user_input)"
   ]
  },
  {
   "cell_type": "code",
   "execution_count": null,
   "id": "98a6ed10",
   "metadata": {},
   "outputs": [],
   "source": [
    "print(\"----------------Churning Details------------------ \",\"\\n\")\n",
    "print(\"Customer Id: \",cus_id,\"\\n\")\n",
    "print(\"Gender: \",gender,\"\\n\")\n",
    "\n",
    "if(senior==1):\n",
    "    print(\"Senior Citize: yes\",\"\\n\")\n",
    "else: \n",
    "    print(\"Senior citizen: No\",\"\\n\")\n",
    "\n",
    "print(\"Partner: \",partner,\"\\n\")\n",
    "print(\"Dependent: \",dependent,\"\\n\")\n",
    "print(\"Tenure: \",tenure,\"\\n\")\n",
    "print(\"Phone Service: \",phone_service,\"\\n\")\n",
    "print(\"Multiple lines: \",multiple_input,\"\\n\")\n",
    "print(\"Internet services: \",internet_service_input,\"\\n\")\n",
    "print(\"Online Security: \",online_security_input,\"\\n\")\n",
    "print(\"Online Backup: \",online_backup_input,\"\\n\")\n",
    "print(\"Device Protection: \",device_protection_input,\"\\n\")\n",
    "print(\"Technical Support:  \",tech_sup_input,\"\\n\")\n",
    "print(\"Tv Streaming: \",streaming_tv_input,\"\\n\")\n",
    "print(\"Movie Streaming: \",streaming_movies_input,\"\\n\")\n",
    "print(\"Contract period: \",contract_input,\"\\n\")\n",
    "print(\"Paperless: \",paper,\"\\n\")\n",
    "print(\"Payment Method: \",payment_input,\"\\n\")\n",
    "print(\"Monthly Charge: \",monthly_charge,\"\\n\")\n",
    "print(\"Total Charge: \",tot_charge,\"\\n\")\n",
    "\n",
    "print(\"Possibility of churning: \",\"\\n\")\n",
    "if predictions[0] == 1:\n",
    "    print(\"The customer is likely to churn the service\")\n",
    "else:\n",
    "    print(\"The customer is unlikely to churn the service.\")"
   ]
  },
  {
   "cell_type": "markdown",
   "id": "43ab5015",
   "metadata": {},
   "source": [
    "Visualizing data"
   ]
  },
  {
   "cell_type": "code",
   "execution_count": null,
   "id": "91f79dd8",
   "metadata": {},
   "outputs": [],
   "source": [
    "probability = xgb_model.predict_proba(user_input)\n",
    "\n",
    "no_churn_prob = probability[0][0] #unlikely to churn\n",
    "churn_prob = probability[0][1] #Probable to churn"
   ]
  },
  {
   "cell_type": "code",
   "execution_count": null,
   "id": "c824d376",
   "metadata": {},
   "outputs": [],
   "source": [
    "labels = ['Unlikely to churn', 'Likely to churn']\n",
    "sizes = [no_churn_prob, churn_prob]\n",
    "colors = [\"#ffacee\",\"#A6B7FF\"]  \n",
    "explode = [0.1, 0]\n",
    "\n",
    "plt.figure(figsize=(6,6))\n",
    "plt.pie(sizes, labels=labels, autopct='%1.1f%%', startangle=90, colors=colors,explode=explode,wedgeprops={'edgecolor': 'black', 'linewidth': 1.5},)\n",
    "plt.title('Probability of Churning a telephone service')\n",
    "plt.show()"
   ]
  }
 ],
 "metadata": {
  "kernelspec": {
   "display_name": "Python 3",
   "language": "python",
   "name": "python3"
  },
  "language_info": {
   "codemirror_mode": {
    "name": "ipython",
    "version": 3
   },
   "file_extension": ".py",
   "mimetype": "text/x-python",
   "name": "python",
   "nbconvert_exporter": "python",
   "pygments_lexer": "ipython3",
   "version": "3.13.5"
  }
 },
 "nbformat": 4,
 "nbformat_minor": 5
}
